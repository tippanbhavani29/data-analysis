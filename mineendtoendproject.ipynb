{
 "cells": [
  {
   "cell_type": "markdown",
   "id": "4faab29c",
   "metadata": {},
   "source": [
    "## Goal:\n",
    "# Explore the Titanic dataset,clean data ,perform analysis and visulaize results using NumPy,Pandas, Matplotlib and Seaborn\n",
    "## 1.Why This project?\n",
    "    1.Learn data cleaning with Pandas\n",
    "    2.Use NumPy for calculations (mean,median,etc.).\n",
    "    3.Visualize trends using Matplotlib and Seaborn\n",
    "    4.Understand the relationship between passenger featues(Age,Sex,Class).\n",
    "## Import Libraries\n",
    "    "
   ]
  },
  {
   "cell_type": "code",
   "execution_count": null,
   "id": "5adc55c6",
   "metadata": {},
   "outputs": [],
   "source": [
    "# importing \n",
    "import pandas as pd\n",
    "import matplotlib.pyplot as plt\n",
    "import numpy as np\n",
    "import seaborn as sns\n"
   ]
  },
  {
   "cell_type": "markdown",
   "id": "4de692e8",
   "metadata": {},
   "source": [
    "## Load Dataset\n"
   ]
  },
  {
   "cell_type": "code",
   "execution_count": null,
   "id": "73e84ea9",
   "metadata": {},
   "outputs": [],
   "source": []
  }
 ],
 "metadata": {
  "kernelspec": {
   "display_name": "Python 3",
   "language": "python",
   "name": "python3"
  },
  "language_info": {
   "name": "python",
   "version": "3.11.13"
  }
 },
 "nbformat": 4,
 "nbformat_minor": 5
}
