{
 "cells": [
  {
   "cell_type": "markdown",
   "id": "87a8ef17",
   "metadata": {},
   "source": [
    "# Numpy - Numerical Python\n",
    "\n",
    "## 1.Why Learn NumPy?\n",
    "## what is it?\n",
    "    Numpy is a powerful python library for numerical computations. it provides fast and memory efficient multi-dimenional arrays.\n",
    "## why we need it?\n",
    "    1.pure python lists are slow for large datasets.\n",
    "    2.Numpy arrays are optimized for speed and vectorized operations\n",
    "    3.Most Data Science and Machine Learning libraries (like pandas,scikit-learn ,Tensorflow ) are built in top of Numpy\n",
    "## Where is it used?\n",
    "    1.Data Analysis\n",
    "    2.Machine Learning and Deep Learning\n",
    "    3.Image processing (OpenCV ,PIL use Numpy arrays)\n",
    "    4.Scientific Computing and Simulations\n",
    "    "
   ]
  },
  {
   "cell_type": "code",
   "execution_count": null,
   "id": "a21a2a04",
   "metadata": {},
   "outputs": [
    {
     "name": "stdout",
     "output_type": "stream",
     "text": [
      "c:\\Users\\Bhavani\\OneDrive\\Documents\\python_basic-0109\\venv\\python.exe\n"
     ]
    }
   ],
   "source": [
    "import  numpy as np\n",
    "import sys\n",
    "print(sys.executable)"
   ]
  },
  {
   "cell_type": "code",
   "execution_count": 5,
   "id": "2cd92e8a",
   "metadata": {},
   "outputs": [
    {
     "name": "stdout",
     "output_type": "stream",
     "text": [
      "Requirement already satisfied: numpy in c:\\users\\bhavani\\onedrive\\documents\\python_basic-0109\\venv\\lib\\site-packages (2.3.3)\n",
      "Note: you may need to restart the kernel to use updated packages.\n"
     ]
    }
   ],
   "source": [
    "pip install numpy\n"
   ]
  },
  {
   "cell_type": "code",
   "execution_count": 3,
   "id": "819ea9cf",
   "metadata": {},
   "outputs": [
    {
     "name": "stdout",
     "output_type": "stream",
     "text": [
      "Python list sum time: 0.019943714141845703\n",
      "Numpy array sum time: 0.019943714141845703\n"
     ]
    }
   ],
   "source": [
    "## 2.Importing Numpy\n",
    "\n",
    "import numpy as np\n",
    "## 3.Arrays Vs Python Lists\n",
    "import numpy as np\n",
    "import time\n",
    "#python list\n",
    "py_list=[i for i in range (1000000)]\n",
    "#numpy array\n",
    "np_array=np.arange(1000000)\n",
    "#Time comparion\n",
    "start_time=time.time()\n",
    "sum(py_list)\n",
    "print(\"Python list sum time:\",time.time()-start_time)\n",
    "start=time.time()\n",
    "np.sum(np_array)\n",
    "print(\"Numpy array sum time:\",time.time()-start_time)\n"
   ]
  },
  {
   "cell_type": "markdown",
   "id": "81242c15",
   "metadata": {},
   "source": [
    "Creating Arrays\n",
    "\n",
    "1.np.arange(start,stop,step)\n",
    "purpose:Creates an array of numbers starting from start up to but not including stop ,incremented by step."
   ]
  },
  {
   "cell_type": "code",
   "execution_count": 4,
   "id": "0d2ac5f6",
   "metadata": {},
   "outputs": [
    {
     "name": "stdout",
     "output_type": "stream",
     "text": [
      "[0 2 4 6 8]\n"
     ]
    }
   ],
   "source": [
    "ar=np.arange(0,10,2)\n",
    "print(ar)"
   ]
  },
  {
   "cell_type": "markdown",
   "id": "e13a568a",
   "metadata": {},
   "source": [
    "2.np.linespace(start,stop,num)\n",
    "purpose:Creates an array of num equally spaced numbers between start and stop(inclusive)\n"
   ]
  },
  {
   "cell_type": "code",
   "execution_count": null,
   "id": "5fe4a1fb",
   "metadata": {},
   "outputs": [
    {
     "name": "stdout",
     "output_type": "stream",
     "text": [
      "[0.  0.5 1. ]\n"
     ]
    }
   ],
   "source": [
    "ar=np.linspace(0,1,3)\n",
    "print(ar)\n",
    "#3 numbers evenly spaced\n"
   ]
  },
  {
   "cell_type": "code",
   "execution_count": 7,
   "id": "df037a55",
   "metadata": {},
   "outputs": [
    {
     "name": "stdout",
     "output_type": "stream",
     "text": [
      "Array: [1 2 3 4 5]\n",
      "Zeros: [[0. 0. 0.]\n",
      " [0. 0. 0.]]\n",
      "Ones: [[1. 1. 1.]\n",
      " [1. 1. 1.]]\n",
      "Aranage: [0 2 4 6 8]\n",
      "Linespace: [0.   0.25 0.5  0.75 1.  ]\n"
     ]
    }
   ],
   "source": [
    "#from list\n",
    "arr=np.array([1,2,3,4,5])\n",
    "print(\"Array:\",arr)\n",
    "#Zeros and Ones\n",
    "print(\"Zeros:\",np.zeros((2,3)))\n",
    "print(\"Ones:\",np.ones((2,3)))\n",
    "#Range and Linespace\n",
    "print(\"Aranage:\",np.arange(0,10,2))\n",
    "print(\"Linespace:\",np.linspace(0,1,5))\n"
   ]
  },
  {
   "cell_type": "code",
   "execution_count": 8,
   "id": "6fddb4cb",
   "metadata": {},
   "outputs": [
    {
     "name": "stdout",
     "output_type": "stream",
     "text": [
      "Array Shape (2, 4)\n",
      "Array dtype: int64\n",
      "Array Size: 8\n",
      "Array ndim: 2\n"
     ]
    }
   ],
   "source": [
    "###5 Array Properties\n",
    "arr=np.array([[1,2,3,4],[5,21,4,1]])\n",
    "print(\"Array Shape\",arr.shape)\n",
    "print(\"Array dtype:\",arr.dtype)\n",
    "print(\"Array Size:\",arr.size)\n",
    "print(\"Array ndim:\",arr.ndim)\n"
   ]
  },
  {
   "cell_type": "code",
   "execution_count": 10,
   "id": "60c33fe7",
   "metadata": {},
   "outputs": [
    {
     "name": "stdout",
     "output_type": "stream",
     "text": [
      "Element at index 2: 30\n",
      "Element from  index 1 to 3 [20 30 40]\n",
      "Element at indices 0,2,4: [10 30 50]\n",
      "Every second element: [10 30 50]\n",
      "Reversed array: [50 40 30 20 10]\n"
     ]
    }
   ],
   "source": [
    "### 6. Indexing and slicing\n",
    "arr=np.array([10,20,30,40,50])\n",
    "print(\"Element at index 2:\",arr[2])\n",
    "print(\"Element from  index 1 to 3\",arr[1:4])\n",
    "print(\"Element at indices 0,2,4:\",arr[[0,2,4]])\n",
    "print(\"Every second element:\",arr[::2])\n",
    "print(\"Reversed array:\",arr[::-1])\n"
   ]
  },
  {
   "cell_type": "code",
   "execution_count": 11,
   "id": "4094734f",
   "metadata": {},
   "outputs": [
    {
     "name": "stdout",
     "output_type": "stream",
     "text": [
      "Matrix:\n",
      " [[1 2 3]\n",
      " [4 5 6]\n",
      " [7 8 9]]\n",
      "Matrix shape: (3, 3)\n",
      "Matrix dtype: int64\n",
      "Matrix size: 9\n",
      "Matrix ndim: 2\n",
      "2\n",
      "[4 5 6]\n",
      "[3 6 9]\n",
      "Transpose:\n",
      " [[1 4 7]\n",
      " [2 5 8]\n",
      " [3 6 9]]\n",
      "Sum of all elements: 45\n",
      "Sum of each column: [12 15 18]\n",
      "Sum of each row: [ 6 15 24]\n",
      "Mean of all elements: 5.0\n",
      "Mean of each column: [4. 5. 6.]\n",
      "Mean of each row: [2. 5. 8.]\n",
      "Element-wise multiplication:\n",
      " [[ 2  4  6]\n",
      " [ 8 10 12]\n",
      " [14 16 18]]\n",
      "Matrix multiplication:\n",
      " [[ 30  36  42]\n",
      " [ 66  81  96]\n",
      " [102 126 150]]\n"
     ]
    }
   ],
   "source": [
    "matrix = np.array([[1,2,3],[4,5,6],[7,8,9]])\n",
    "print(\"Matrix:\\n\", matrix)\n",
    "print(\"Matrix shape:\", matrix.shape)\n",
    "print(\"Matrix dtype:\", matrix.dtype)\n",
    "print(\"Matrix size:\", matrix.size)\n",
    "print(\"Matrix ndim:\", matrix.ndim)\n",
    "print(matrix[0,1]) # element at row 0, col 1\n",
    "print(matrix[1,:]) # entire row 1\n",
    "print(matrix[:,2]) # entire col 2\n",
    "# Matrix operations\n",
    "print(\"Transpose:\\n\", matrix.T)\n",
    "print(\"Sum of all elements:\", np.sum(matrix))\n",
    "print(\"Sum of each column:\", np.sum(matrix, axis=0))\n",
    "print(\"Sum of each row:\", np.sum(matrix, axis=1))\n",
    "print(\"Mean of all elements:\", np.mean(matrix))\n",
    "print(\"Mean of each column:\", np.mean(matrix, axis=0))\n",
    "print(\"Mean of each row:\", np.mean(matrix, axis=1))\n",
    "print(\"Element-wise multiplication:\\n\", matrix * 2)\n",
    "print(\"Matrix multiplication:\\n\", np.dot(matrix, matrix))"
   ]
  },
  {
   "cell_type": "code",
   "execution_count": 12,
   "id": "5bf394c2",
   "metadata": {},
   "outputs": [
    {
     "name": "stdout",
     "output_type": "stream",
     "text": [
      "a + b: [5 7 9]\n",
      "a * b: [ 4 10 18]\n",
      "a + 10: [11 12 13]\n",
      "a * 2: [2 4 6]\n"
     ]
    }
   ],
   "source": [
    "## 7. Operations and Broadcasting\n",
    "a = np.array([1,2,3]) \n",
    "b = np.array([4,5,6])\n",
    "print(\"a + b:\", a + b)            # Element-wise addition\n",
    "print(\"a * b:\", a * b)            # Element-wise multiplication\n",
    "print(\"a + 10:\", a + 10)          # Broadcasting\n",
    "print(\"a * 2:\", a * 2)            # Broadcasting"
   ]
  },
  {
   "cell_type": "code",
   "execution_count": 13,
   "id": "810ad602",
   "metadata": {},
   "outputs": [
    {
     "name": "stdout",
     "output_type": "stream",
     "text": [
      "Sum: 15\n",
      "Mean: 3.0\n",
      "Max: 5\n",
      "Min: 1\n",
      "Standard Deviation: 1.4142135623730951\n",
      "Variance: 2.0\n",
      "Square Root: [1.         1.41421356 1.73205081 2.         2.23606798]\n",
      "Exponential: [  2.71828183   7.3890561   20.08553692  54.59815003 148.4131591 ]\n",
      "Logarithm: [0.         0.69314718 1.09861229 1.38629436 1.60943791]\n"
     ]
    }
   ],
   "source": [
    "## 8. Mathematical Functions\n",
    "arr = np.array([1,2,3,4,5])\n",
    "print(\"Sum:\", np.sum(arr))\n",
    "print(\"Mean:\", np.mean(arr))\n",
    "print(\"Max:\", np.max(arr))\n",
    "print(\"Min:\", np.min(arr))\n",
    "print(\"Standard Deviation:\", np.std(arr))\n",
    "print(\"Variance:\", np.var(arr))\n",
    "print(\"Square Root:\", np.sqrt(arr))\n",
    "print(\"Exponential:\", np.exp(arr))\n",
    "print(\"Logarithm:\", np.log(arr))"
   ]
  },
  {
   "cell_type": "code",
   "execution_count": null,
   "id": "e372cf50",
   "metadata": {},
   "outputs": [],
   "source": [
    "## 9. Reshaping Arrays\n",
    "arr = np.arange(1, 13)\n",
    "reshaped = arr.reshape((3,4))\n",
    "print(\"Original array:\", arr)\n",
    "print(\"Reshaped array (3x4):\\n\", reshaped)\n",
    "flattened = reshaped.flatten()\n",
    "print(\"Flattened array:\", flattened)\n"
   ]
  },
  {
   "cell_type": "code",
   "execution_count": 14,
   "id": "12aacef1",
   "metadata": {},
   "outputs": [
    {
     "name": "stdout",
     "output_type": "stream",
     "text": [
      "Array: [[1 2 3]\n",
      " [4 5 6]\n",
      " [7 8 9]]\n",
      "Second row [4 5 6]\n"
     ]
    }
   ],
   "source": [
    "#array of 3x3 matrix from values 1 to  9\n",
    "arr=np.arange(1,10)\n",
    "reshaped=arr.reshape(3,3)\n",
    "print(\"Array:\",reshaped)\n",
    "print(\"Second row\",reshaped[1,:])"
   ]
  },
  {
   "cell_type": "code",
   "execution_count": 15,
   "id": "63d48854",
   "metadata": {},
   "outputs": [
    {
     "name": "stdout",
     "output_type": "stream",
     "text": [
      "Mean: 20.4\n",
      "Median: 20.0\n",
      "std: 6.529931086925803\n"
     ]
    }
   ],
   "source": [
    "### find mean ,median , and standard deviation of [12,15,20,25,30]\n",
    "arr=np.array([12,15,20,25,30])\n",
    "print(\"Mean:\",np.mean(arr))\n",
    "print(\"Median:\",np.median(arr))\n",
    "print(\"std:\",np.std(arr))\n"
   ]
  },
  {
   "cell_type": "code",
   "execution_count": 16,
   "id": "e6c1ed0e",
   "metadata": {},
   "outputs": [
    {
     "name": "stdout",
     "output_type": "stream",
     "text": [
      "Random 5 X 5 Matrix:\n",
      " [[0.62316286 0.50662067 0.33984598 0.11644294 0.01532933]\n",
      " [0.20483444 0.28965776 0.90957583 0.95562728 0.85354128]\n",
      " [0.0487553  0.83803245 0.38103247 0.96408036 0.08189746]\n",
      " [0.85510603 0.40241757 0.50591262 0.54935983 0.555587  ]\n",
      " [0.32174789 0.02301758 0.77788532 0.00560048 0.06910839]]\n",
      "\n",
      "Maximum Value: 0.9640803625887722\n",
      "\n",
      "Minimum Value: 0.005600476384589381\n"
     ]
    }
   ],
   "source": [
    "### Generate a random 5X5 matrix and find its maximum and minimum values\n",
    "#(Hint :Use np.random.rand for random numbers)\n",
    "matrix=np.random.rand(5,5)\n",
    "print(\"Random 5 X 5 Matrix:\\n\",matrix)\n",
    "max=np.max(matrix)\n",
    "print(\"\\nMaximum Value:\",max)\n",
    "min=np.min(matrix)\n",
    "print(\"\\nMinimum Value:\",min)\n"
   ]
  },
  {
   "cell_type": "code",
   "execution_count": null,
   "id": "2916e8a9",
   "metadata": {},
   "outputs": [],
   "source": []
  }
 ],
 "metadata": {
  "kernelspec": {
   "display_name": "Python 3",
   "language": "python",
   "name": "python3"
  },
  "language_info": {
   "codemirror_mode": {
    "name": "ipython",
    "version": 3
   },
   "file_extension": ".py",
   "mimetype": "text/x-python",
   "name": "python",
   "nbconvert_exporter": "python",
   "pygments_lexer": "ipython3",
   "version": "3.11.13"
  }
 },
 "nbformat": 4,
 "nbformat_minor": 5
}
